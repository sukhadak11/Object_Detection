{
 "cells": [
  {
   "cell_type": "code",
   "execution_count": 2,
   "metadata": {},
   "outputs": [
    {
     "ename": "ModuleNotFoundError",
     "evalue": "No module named 'cv2'",
     "output_type": "error",
     "traceback": [
      "\u001b[1;31m---------------------------------------------------------------------------\u001b[0m",
      "\u001b[1;31mModuleNotFoundError\u001b[0m                       Traceback (most recent call last)",
      "Cell \u001b[1;32mIn[2], line 1\u001b[0m\n\u001b[1;32m----> 1\u001b[0m \u001b[38;5;28;01mimport\u001b[39;00m \u001b[38;5;21;01mcv2\u001b[39;00m\n\u001b[0;32m      2\u001b[0m \u001b[38;5;28;01mimport\u001b[39;00m \u001b[38;5;21;01mos\u001b[39;00m\n\u001b[0;32m      4\u001b[0m \u001b[38;5;66;03m# Function to create output directory if it doesn't exist\u001b[39;00m\n",
      "\u001b[1;31mModuleNotFoundError\u001b[0m: No module named 'cv2'"
     ]
    }
   ],
   "source": [
    "import cv2\n",
    "import os\n",
    "\n",
    "# Function to create output directory if it doesn't exist\n",
    "def create_dir(path):\n",
    "    if not os.path.exists(path):\n",
    "        os.makedirs(path)\n",
    "\n",
    "# Function to extract frames from a video\n",
    "def extract_frames_from_video(video_path, output_dir, frame_rate=1):\n",
    "    create_dir(output_dir)\n",
    "    \n",
    "    # Capture the video from file\n",
    "    vidcap = cv2.VideoCapture(video_path)\n",
    "    \n",
    "    fps = int(vidcap.get(cv2.CAP_PROP_FPS))  # Get frames per second of the video\n",
    "    count = 0\n",
    "    success = True\n",
    "    \n",
    "    while success:\n",
    "        success, frame = vidcap.read()\n",
    "        \n",
    "        if success and count % (fps * frame_rate) == 0:\n",
    "            frame_filename = f\"frame_{count}.jpg\"\n",
    "            frame_path = os.path.join(output_dir, frame_filename)\n",
    "            cv2.imwrite(frame_path, frame)\n",
    "            print(f\"Saved {frame_filename}\")\n",
    "        \n",
    "        count += 1\n",
    "    \n",
    "    vidcap.release()\n",
    "\n",
    "# Function to extract a single frame from a photo\n",
    "def extract_frame_from_photo(photo_path, output_dir):\n",
    "    create_dir(output_dir)\n",
    "    \n",
    "    img = cv2.imread(photo_path)\n",
    "    if img is not None:\n",
    "        filename = os.path.basename(photo_path)\n",
    "        output_path = os.path.join(output_dir, filename)\n",
    "        cv2.imwrite(output_path, img)\n",
    "        print(f\"Saved {output_path}\")\n",
    "    else:\n",
    "        print(f\"Error reading image from {photo_path}\")\n",
    "\n",
    "# Example usage for video\n",
    "video_path = r'F:\\object_detection\\ml_data\\your_video.mp4'  # Corrected path with raw string literal\n",
    "output_dir_for_video = 'video_frames'\n",
    "extract_frames_from_video(video_path, output_dir_for_video, frame_rate=1)\n",
    "\n",
    "# Example usage for photo\n",
    "photo_path = r'F:\\object_detection\\ml_images\\your_image.jpg'  # Corrected path with raw string literal\n",
    "output_dir_for_photo = 'photo_frames'\n",
    "extract_frame_from_photo(photo_path, output_dir_for_photo)\n"
   ]
  }
 ],
 "metadata": {
  "kernelspec": {
   "display_name": "Python 3",
   "language": "python",
   "name": "python3"
  },
  "language_info": {
   "codemirror_mode": {
    "name": "ipython",
    "version": 3
   },
   "file_extension": ".py",
   "mimetype": "text/x-python",
   "name": "python",
   "nbconvert_exporter": "python",
   "pygments_lexer": "ipython3",
   "version": "3.12.2"
  }
 },
 "nbformat": 4,
 "nbformat_minor": 2
}
